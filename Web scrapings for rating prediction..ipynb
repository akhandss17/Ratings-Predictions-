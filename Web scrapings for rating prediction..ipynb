{
 "cells": [
  {
   "cell_type": "markdown",
   "metadata": {},
   "source": [
    "# Data Collection Phase\n",
    "."
   ]
  },
  {
   "cell_type": "markdown",
   "metadata": {},
   "source": [
    "You have to scrape at least 20000 rows of data. You can scrape more data as well, it’s up to you. More the data better the model that gets created later. In this section you need to scrape the reviews of different Laptops, Smart Phones, Headphones, Smart Watches, Professional Cameras, Printers, Monitors, Home Theaters, Routers etc. from different e-commerce websites.\n",
    "\n",
    "Basically, we need these columns:\n",
    "\n",
    "1. reviews of the product.\n",
    "2. rating of the product.\n",
    "\n",
    "\n",
    "You can fetch other data as well, if you think data can be useful or can help in the project. It completely depends on your imagination or assumption"
   ]
  },
  {
   "cell_type": "markdown",
   "metadata": {},
   "source": [
    "Hint:\n",
    "\n",
    "- Try to fetch data from different websites. If data is from different websites, it will help our \n",
    "   model to remove the effect of over fitting.\n",
    "\n",
    "- Try to fetch an equal number of reviews for each rating, for example if you are fetching 10000       reviews then all ratings 1,2,3,4,5 should be 2000. It will balance our data set.\n",
    "\n",
    "- Convert all the ratings to their round number, as there are only 5 options for rating i.e.,            1,2,3,4,5. If a rating is 4.5 convert it 5."
   ]
  },
  {
   "cell_type": "code",
   "execution_count": 12,
   "metadata": {},
   "outputs": [],
   "source": [
    "# Import all the Required libraries\n",
    "\n",
    "import selenium\n",
    "import pandas as pd\n",
    "import time\n",
    "import  requests\n",
    "from  bs4 import BeautifulSoup\n",
    "from selenium import webdriver\n",
    "from selenium.common.exceptions import NoSuchElementException\n",
    "from selenium.webdriver.common.keys import Keys\n",
    "from selenium.webdriver.common.action_chains import ActionChains\n",
    "from selenium.webdriver.support.ui import WebDriverWait\n",
    "from selenium.webdriver.support import expected_conditions as EC\n",
    "from selenium.webdriver.common.by import By\n",
    "import warnings \n",
    "warnings.filterwarnings('ignore')"
   ]
  },
  {
   "cell_type": "markdown",
   "metadata": {},
   "source": [
    "# Reviews from Flipkart.com"
   ]
  },
  {
   "cell_type": "code",
   "execution_count": 13,
   "metadata": {},
   "outputs": [],
   "source": [
    "driver = webdriver.Chrome(r\"C:\\Users\\akhan\\Downloads\\chromedriver_win32 (2)/chromedriver.exe\")\n",
    "url = \"https://www.flipkart.com/\"\n",
    "driver.get(url)\n",
    "time.sleep(2)\n"
   ]
  },
  {
   "cell_type": "code",
   "execution_count": 14,
   "metadata": {},
   "outputs": [],
   "source": [
    "#clicking on cancel buttopn \n",
    "driver.find_element_by_xpath(\"//div[@class='_2QfC02']/button\").click()\n",
    "srch_items = ['laptops', 'Phones','smart watches','Monitors']\n",
    "title = []\n",
    "review_text = []\n",
    "ratings = []"
   ]
  },
  {
   "cell_type": "code",
   "execution_count": 15,
   "metadata": {},
   "outputs": [
    {
     "data": {
      "text/plain": [
       "384"
      ]
     },
     "execution_count": 15,
     "metadata": {},
     "output_type": "execute_result"
    }
   ],
   "source": [
    "def scrap():    \n",
    "        for i in driver.find_elements_by_xpath(\"//div[@class='t-ZTKy']\"):\n",
    "            review_text.append(i.text)\n",
    "        for i in driver.find_elements_by_xpath(\"//p[@class='_2-N8zT']\"):\n",
    "            title.append(i.text)\n",
    "        for i in driver.find_elements_by_xpath(\"//p[@class='_2-N8zT']/../div\"):\n",
    "            ratings.append(i.text)\n",
    "        return\n",
    "urls=[]\n",
    "for i in srch_items:\n",
    "    # Find the search bar\n",
    "    srchBar = driver.find_element_by_xpath(\"//div[@class='_3OO5Xc']/input\")\n",
    "    srchBar.clear()\n",
    "    srchBar.send_keys(i)\n",
    "    # Clicking on the search button\n",
    "    driver.find_element_by_xpath(\"//button[@class='L0Z3Pu']\").click()\n",
    "    time.sleep(3)\n",
    "    page = []\n",
    "    for i in driver.find_elements_by_xpath(\"//nav[@class='yFHi8N']/a\"):\n",
    "        page.append(i.get_attribute('href'))\n",
    "    for i in page[0:4]:\n",
    "        driver.get(i)\n",
    "        time.sleep(3)\n",
    "        items = driver.find_elements_by_xpath(\"//a[@class='_1fQZEK']\")\n",
    "        for i in items:\n",
    "            urls.append(i.get_attribute('href'))\n",
    "len(urls)            "
   ]
  },
  {
   "cell_type": "code",
   "execution_count": 18,
   "metadata": {},
   "outputs": [
    {
     "data": {
      "text/plain": [
       "(65396, 65396, 65396)"
      ]
     },
     "execution_count": 18,
     "metadata": {},
     "output_type": "execute_result"
    }
   ],
   "source": [
    "for i in urls:\n",
    "    driver.get(i)\n",
    "    time.sleep(2)\n",
    "    for _ in range(2):\n",
    "        driver.execute_script(\"window.scrollBy(0,6000)\")\n",
    "        time.sleep(1)\n",
    "    # Clicking on all reviews\n",
    "    try:\n",
    "        btn=driver.find_element_by_xpath(\"//div[@class='_2c2kV-']/following::a\")\n",
    "        lnk = btn.get_attribute('href')\n",
    "        driver.get(lnk)\n",
    "        time.sleep(1)\n",
    "    except NoSuchElementException:\n",
    "        pass\n",
    "\n",
    "    scrap()        \n",
    "    try:\n",
    "        n_page=driver.find_elements_by_xpath(\"//nav[@class='yFHi8N']/a\")\n",
    "        np=[]\n",
    "        for i in n_page:\n",
    "            np.append(i.get_attribute('href'))\n",
    "        for i in np[0:18]:\n",
    "            driver.get(i)\n",
    "            time.sleep(1)\n",
    "            scrap()\n",
    "    except: continue\n",
    "len(ratings), len(review_text), len(title)    "
   ]
  },
  {
   "cell_type": "code",
   "execution_count": 19,
   "metadata": {},
   "outputs": [
    {
     "data": {
      "text/html": [
       "<div>\n",
       "<style scoped>\n",
       "    .dataframe tbody tr th:only-of-type {\n",
       "        vertical-align: middle;\n",
       "    }\n",
       "\n",
       "    .dataframe tbody tr th {\n",
       "        vertical-align: top;\n",
       "    }\n",
       "\n",
       "    .dataframe thead th {\n",
       "        text-align: right;\n",
       "    }\n",
       "</style>\n",
       "<table border=\"1\" class=\"dataframe\">\n",
       "  <thead>\n",
       "    <tr style=\"text-align: right;\">\n",
       "      <th></th>\n",
       "      <th>Review_title</th>\n",
       "      <th>Review_text</th>\n",
       "      <th>Ratings</th>\n",
       "    </tr>\n",
       "  </thead>\n",
       "  <tbody>\n",
       "    <tr>\n",
       "      <th>0</th>\n",
       "      <td>Terrific purchase</td>\n",
       "      <td>I like the specs and scope for expansion. It i...</td>\n",
       "      <td>5</td>\n",
       "    </tr>\n",
       "    <tr>\n",
       "      <th>1</th>\n",
       "      <td>Not good</td>\n",
       "      <td>Bought this in November. I already hv 20% batt...</td>\n",
       "      <td>2</td>\n",
       "    </tr>\n",
       "    <tr>\n",
       "      <th>2</th>\n",
       "      <td>Good quality product</td>\n",
       "      <td>pros\\n1. Nice metallic design and i love the k...</td>\n",
       "      <td>4</td>\n",
       "    </tr>\n",
       "    <tr>\n",
       "      <th>3</th>\n",
       "      <td>Brilliant</td>\n",
       "      <td>Would have been better if msi provides 1TB ssd...</td>\n",
       "      <td>5</td>\n",
       "    </tr>\n",
       "    <tr>\n",
       "      <th>4</th>\n",
       "      <td>Best in the market!</td>\n",
       "      <td>Speed is everything and that MSi gives.\\nIt is...</td>\n",
       "      <td>5</td>\n",
       "    </tr>\n",
       "    <tr>\n",
       "      <th>...</th>\n",
       "      <td>...</td>\n",
       "      <td>...</td>\n",
       "      <td>...</td>\n",
       "    </tr>\n",
       "    <tr>\n",
       "      <th>65391</th>\n",
       "      <td>Worth every penny</td>\n",
       "      <td>Good quality product and available at reasonab...</td>\n",
       "      <td>5</td>\n",
       "    </tr>\n",
       "    <tr>\n",
       "      <th>65392</th>\n",
       "      <td>Simply awesome</td>\n",
       "      <td>Best value</td>\n",
       "      <td>5</td>\n",
       "    </tr>\n",
       "    <tr>\n",
       "      <th>65393</th>\n",
       "      <td>Good quality product</td>\n",
       "      <td>Nice product. good packing. nice pictire, Unfo...</td>\n",
       "      <td>4</td>\n",
       "    </tr>\n",
       "    <tr>\n",
       "      <th>65394</th>\n",
       "      <td>Must buy!</td>\n",
       "      <td>Value for money....\\nDecent viewing angles\\nId...</td>\n",
       "      <td>5</td>\n",
       "    </tr>\n",
       "    <tr>\n",
       "      <th>65395</th>\n",
       "      <td>Just wow!</td>\n",
       "      <td>Super quality</td>\n",
       "      <td>5</td>\n",
       "    </tr>\n",
       "  </tbody>\n",
       "</table>\n",
       "<p>65396 rows × 3 columns</p>\n",
       "</div>"
      ],
      "text/plain": [
       "               Review_title  \\\n",
       "0         Terrific purchase   \n",
       "1                  Not good   \n",
       "2      Good quality product   \n",
       "3                 Brilliant   \n",
       "4       Best in the market!   \n",
       "...                     ...   \n",
       "65391     Worth every penny   \n",
       "65392        Simply awesome   \n",
       "65393  Good quality product   \n",
       "65394             Must buy!   \n",
       "65395             Just wow!   \n",
       "\n",
       "                                             Review_text Ratings  \n",
       "0      I like the specs and scope for expansion. It i...       5  \n",
       "1      Bought this in November. I already hv 20% batt...       2  \n",
       "2      pros\\n1. Nice metallic design and i love the k...       4  \n",
       "3      Would have been better if msi provides 1TB ssd...       5  \n",
       "4      Speed is everything and that MSi gives.\\nIt is...       5  \n",
       "...                                                  ...     ...  \n",
       "65391  Good quality product and available at reasonab...       5  \n",
       "65392                                         Best value       5  \n",
       "65393  Nice product. good packing. nice pictire, Unfo...       4  \n",
       "65394  Value for money....\\nDecent viewing angles\\nId...       5  \n",
       "65395                                      Super quality       5  \n",
       "\n",
       "[65396 rows x 3 columns]"
      ]
     },
     "execution_count": 19,
     "metadata": {},
     "output_type": "execute_result"
    }
   ],
   "source": [
    "# Creating a dataframe\n",
    "data = list(zip(title,review_text,ratings))\n",
    "df = pd.DataFrame(data, columns = [\"Review_title\",\"Review_text\",\"Ratings\"])\n",
    "df"
   ]
  },
  {
   "cell_type": "code",
   "execution_count": 20,
   "metadata": {},
   "outputs": [],
   "source": [
    "# Saving the data into csv file\n",
    "df.to_csv(r\"C:\\Users\\akhan\\Downloads\\Ratings Prediction Project Data (Flip Robo).csv\")"
   ]
  },
  {
   "cell_type": "code",
   "execution_count": null,
   "metadata": {},
   "outputs": [],
   "source": []
  }
 ],
 "metadata": {
  "kernelspec": {
   "display_name": "Python 3",
   "language": "python",
   "name": "python3"
  },
  "language_info": {
   "codemirror_mode": {
    "name": "ipython",
    "version": 3
   },
   "file_extension": ".py",
   "mimetype": "text/x-python",
   "name": "python",
   "nbconvert_exporter": "python",
   "pygments_lexer": "ipython3",
   "version": "3.9.1"
  },
  "varInspector": {
   "cols": {
    "lenName": 16,
    "lenType": 16,
    "lenVar": 40
   },
   "kernels_config": {
    "python": {
     "delete_cmd_postfix": "",
     "delete_cmd_prefix": "del ",
     "library": "var_list.py",
     "varRefreshCmd": "print(var_dic_list())"
    },
    "r": {
     "delete_cmd_postfix": ") ",
     "delete_cmd_prefix": "rm(",
     "library": "var_list.r",
     "varRefreshCmd": "cat(var_dic_list()) "
    }
   },
   "types_to_exclude": [
    "module",
    "function",
    "builtin_function_or_method",
    "instance",
    "_Feature"
   ],
   "window_display": false
  }
 },
 "nbformat": 4,
 "nbformat_minor": 4
}
